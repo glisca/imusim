{
 "cells": [
  {
   "cell_type": "markdown",
   "metadata": {},
   "source": [
    "# Total Capture MoCap Trajectory"
   ]
  },
  {
   "cell_type": "code",
   "execution_count": null,
   "metadata": {},
   "outputs": [],
   "source": [
    "import numpy as np\n",
    "\n",
    "from imusim.platforms.imus import Orient3IMU\n",
    "from imusim.platforms.imus import IdealIMU\n",
    "from imusim.environment.base import Environment\n",
    "from imusim.simulation.calibrators import ScaleAndOffsetCalibrator\n",
    "from imusim.trajectories.rigid_body import SplinedBodyModel\n",
    "from imusim.simulation.base import Simulation\n",
    "from imusim.behaviours.imu import BasicIMUBehaviour\n",
    "\n",
    "from imusim.testing.random_data import RandomTrajectory\n",
    "\n",
    "from imusim.io.bvh import CM_TO_M_CONVERSION\n",
    "from imusim.io.bvh import loadBVHFile\n",
    "\n",
    "from imusim.visualisation.plotting import plot"
   ]
  },
  {
   "cell_type": "code",
   "execution_count": null,
   "metadata": {},
   "outputs": [],
   "source": [
    "# model = loadBVHFile(\"/home/lisca/data/mocap/01_01.bvh\", CM_TO_M_CONVERSION)\n",
    "model = loadBVHFile(\"/home/lisca/data/total/s1/acting1_BlenderZXY_YmZ.bvh\", CM_TO_M_CONVERSION)\n",
    "splinedModel = SplinedBodyModel(model)"
   ]
  },
  {
   "cell_type": "code",
   "execution_count": null,
   "metadata": {},
   "outputs": [],
   "source": [
    "env = Environment()"
   ]
  },
  {
   "cell_type": "code",
   "execution_count": null,
   "metadata": {},
   "outputs": [],
   "source": [
    "# imu = Orient3IMU()\n",
    "imu = IdealIMU()\n",
    "samples = 1000\n",
    "rotationalVelocity = 20\n",
    "samplingPeriod = 0.01\n",
    "calibrator = ScaleAndOffsetCalibrator(env, samples, samplingPeriod, rotationalVelocity)\n",
    "calibration = calibrator.calibrate(imu)"
   ]
  },
  {
   "cell_type": "code",
   "execution_count": null,
   "metadata": {},
   "outputs": [],
   "source": [
    "sim = Simulation(environment=env)"
   ]
  },
  {
   "cell_type": "code",
   "execution_count": null,
   "metadata": {},
   "outputs": [],
   "source": [
    "# r_ft_trjctr = splinedModel.getJoint('rFoot')\n",
    "# r_ft_trjctr.name"
   ]
  },
  {
   "cell_type": "code",
   "execution_count": null,
   "metadata": {},
   "outputs": [],
   "source": [
    "splinedModel.jointNames"
   ]
  },
  {
   "cell_type": "code",
   "execution_count": null,
   "metadata": {},
   "outputs": [],
   "source": [
    "imu.simulation = sim\n",
    "imu.trajectory = splinedModel.getJoint('LeftHandEnd')"
   ]
  },
  {
   "cell_type": "code",
   "execution_count": null,
   "metadata": {},
   "outputs": [],
   "source": [
    "sim.time = splinedModel.startTime"
   ]
  },
  {
   "cell_type": "code",
   "execution_count": null,
   "metadata": {},
   "outputs": [],
   "source": [
    "behaviour = BasicIMUBehaviour(imu, samplingPeriod, calibration, initialTime=sim.time)"
   ]
  },
  {
   "cell_type": "code",
   "execution_count": null,
   "metadata": {},
   "outputs": [],
   "source": [
    "# sim.run(splinedModel.endTime)\n",
    "sim.run(splinedModel.startTime + 2.5)"
   ]
  },
  {
   "cell_type": "code",
   "execution_count": null,
   "metadata": {},
   "outputs": [],
   "source": [
    "from mpl_toolkits.mplot3d import Axes3D\n",
    "import matplotlib.pyplot as plt\n",
    "\n",
    "fig = plt.figure()\n",
    "ax = fig.add_subplot(111, projection='3d')\n",
    "\n",
    "frms_cnt = 125\n",
    "dt = 1 / 60.0\n",
    "tm_sqnc = np.arange(0, frms_cnt*dt, dt)\n",
    "\n",
    "# x = model.positionKeyFrames.values[0][:trim]\n",
    "# y = model.positionKeyFrames.values[1][:trim]\n",
    "# z = model.positionKeyFrames.values[2][:trim]\n",
    "\n",
    "# l_hnd_trjctry = model.getJoint('LeftHand')\n",
    "\n",
    "l_hnd_trjctry = splinedModel.getJoint('LeftHand')\n",
    "r_hnd_trjctry = splinedModel.getJoint('RightHand')\n",
    "\n",
    "l_hnd_trjctry_pts = np.empty([3, tm_sqnc.shape[0]])\n",
    "r_hnd_trjctry_pts = np.empty([3, tm_sqnc.shape[0]])\n",
    "\n",
    "for idx, tm_stmp in enumerate(tm_sqnc, 0):\n",
    "    l_hnd_trjctry_pts[:, idx] = l_hnd_trjctry.position(tm_stmp).reshape(3)\n",
    "    r_hnd_trjctry_pts[:, idx] = r_hnd_trjctry.position(tm_stmp).reshape(3)\n",
    "\n",
    "x = l_hnd_trjctry_pts[0][:]\n",
    "y = l_hnd_trjctry_pts[1][:]\n",
    "z = l_hnd_trjctry_pts[2][:]\n",
    "    \n",
    "ax.scatter(x, y, z, marker=\"*\")\n",
    "\n",
    "x = r_hnd_trjctry_pts[0][:]\n",
    "y = r_hnd_trjctry_pts[1][:]\n",
    "z = r_hnd_trjctry_pts[2][:]\n",
    "    \n",
    "ax.scatter(x, y, z, marker=\"*\")\n",
    "\n",
    "plt.show()"
   ]
  },
  {
   "cell_type": "code",
   "execution_count": null,
   "metadata": {},
   "outputs": [],
   "source": [
    "l_hnd_trjctry"
   ]
  },
  {
   "cell_type": "code",
   "execution_count": null,
   "metadata": {},
   "outputs": [],
   "source": [
    "l_hnd_trjctry.position(0.1)"
   ]
  },
  {
   "cell_type": "code",
   "execution_count": null,
   "metadata": {},
   "outputs": [],
   "source": [
    "# figure()\n",
    "plot(imu.accelerometer.calibratedMeasurements)\n",
    "# plot(imu.accelerometer.calibratedMeasurements.timestamps, imu.accelerometer.calibratedMeasurements.values)\n",
    "# plot(imu.gyroscope.calibratedMeasurements.timestamps, imu.gyroscope.calibratedMeasurements.values)\n",
    "# title(\"Accelerometer Readings\")\n",
    "# xlabel(\"Time (s)\")\n",
    "# ylabel(\"Acceleration (m/s^2)\")\n",
    "# legend()"
   ]
  },
  {
   "cell_type": "code",
   "execution_count": null,
   "metadata": {},
   "outputs": [],
   "source": [
    "# figure()\n",
    "plot(imu.gyroscope.calibratedMeasurements)\n",
    "# plot(imu.accelerometer.calibratedMeasurements.timestamps, imu.accelerometer.calibratedMeasurements.values)\n",
    "# plot(imu.gyroscope.calibratedMeasurements.timestamps, imu.gyroscope.calibratedMeasurements.values)\n",
    "# title(\"Accelerometer Readings\")\n",
    "# xlabel(\"Time (s)\")\n",
    "# ylabel(\"Acceleration (m/s^2)\")\n",
    "# legend()"
   ]
  },
  {
   "cell_type": "code",
   "execution_count": null,
   "metadata": {},
   "outputs": [],
   "source": []
  }
 ],
 "metadata": {
  "kernelspec": {
   "display_name": "Python 3",
   "language": "python",
   "name": "python3"
  },
  "language_info": {
   "codemirror_mode": {
    "name": "ipython",
    "version": 3
   },
   "file_extension": ".py",
   "mimetype": "text/x-python",
   "name": "python",
   "nbconvert_exporter": "python",
   "pygments_lexer": "ipython3",
   "version": "3.7.5"
  }
 },
 "nbformat": 4,
 "nbformat_minor": 4
}
