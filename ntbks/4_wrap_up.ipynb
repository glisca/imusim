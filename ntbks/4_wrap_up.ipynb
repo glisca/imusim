{
 "cells": [
  {
   "cell_type": "code",
   "execution_count": null,
   "metadata": {},
   "outputs": [],
   "source": [
    "from imusim.all import *\n",
    "\n",
    "samplingPeriod = 0.01\n",
    "imu = Orient3IMU()\n",
    "env = Environment()\n",
    "samples = 1000\n",
    "rotationalVelocity = 20\n",
    "calibrator = ScaleAndOffsetCalibrator(env, samples, samplingPeriod, rotationalVelocity)\n",
    "calibration = calibrator.calibrate(imu)\n",
    "model = loadBVHFile(\"/home/lisca/data/mocap/01_01.bvh\", CM_TO_M_CONVERSION)\n",
    "splinedModel = SplinedBodyModel(model)\n",
    "sim = Simulation(environment=env)\n",
    "imu.simulation = sim\n",
    "imu.trajectory = splinedModel.getJoint('rFoot')\n",
    "sim.time = splinedModel.startTime\n",
    "BasicIMUBehaviour(imu, samplingPeriod, calibration, initialTime=sim.time)\n",
    "sim.run(splinedModel.endTime)"
   ]
  }
 ],
 "metadata": {
  "kernelspec": {
   "display_name": "Python 3",
   "language": "python",
   "name": "python3"
  },
  "language_info": {
   "codemirror_mode": {
    "name": "ipython",
    "version": 3
   },
   "file_extension": ".py",
   "mimetype": "text/x-python",
   "name": "python",
   "nbconvert_exporter": "python",
   "pygments_lexer": "ipython3",
   "version": "3.7.5"
  }
 },
 "nbformat": 4,
 "nbformat_minor": 4
}
