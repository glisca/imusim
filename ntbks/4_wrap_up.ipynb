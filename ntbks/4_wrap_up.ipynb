{
 "cells": [
  {
   "cell_type": "code",
   "execution_count": 3,
   "metadata": {},
   "outputs": [
    {
     "name": "stdout",
     "output_type": "stream",
     "text": [
      "Simulating...\n",
      "Simulated 1.1s of 22.9s (  5%). Estimated time remaining 2.8s\n",
      "Simulated 2.3s of 22.9s ( 10%). Estimated time remaining 2.7s\n",
      "Simulated 3.4s of 22.9s ( 15%). Estimated time remaining 2.5s\n",
      "Simulated 4.6s of 22.9s ( 20%). Estimated time remaining 2.4s\n",
      "Simulated 5.7s of 22.9s ( 25%). Estimated time remaining 2.3s\n",
      "Simulated 6.9s of 22.9s ( 30%). Estimated time remaining 2.1s\n",
      "Simulated 8.0s of 22.9s ( 35%). Estimated time remaining 2.0s\n",
      "Simulated 9.1s of 22.9s ( 40%). Estimated time remaining 1.8s\n",
      "Simulated 10.3s of 22.9s ( 45%). Estimated time remaining 1.7s\n",
      "Simulated 11.4s of 22.9s ( 50%). Estimated time remaining 1.6s\n",
      "Simulated 12.6s of 22.9s ( 55%). Estimated time remaining 1.4s\n",
      "Simulated 13.7s of 22.9s ( 60%). Estimated time remaining 1.3s\n",
      "Simulated 14.9s of 22.9s ( 65%). Estimated time remaining 1.1s\n",
      "Simulated 16.0s of 22.9s ( 70%). Estimated time remaining 1.0s\n",
      "Simulated 17.1s of 22.9s ( 75%). Estimated time remaining 0.8s\n",
      "Simulated 18.3s of 22.9s ( 80%). Estimated time remaining 0.7s\n",
      "Simulated 19.4s of 22.9s ( 85%). Estimated time remaining 0.6s\n",
      "Simulated 20.6s of 22.9s ( 90%). Estimated time remaining 0.4s\n",
      "Simulated 21.7s of 22.9s ( 95%). Estimated time remaining 0.3s\n",
      "Simulated 22.9s of 22.9s (100%). Estimated time remaining 0.1s\n",
      "Simulation complete.\n",
      "Simulated 22.9 seconds in 2.8 seconds.\n"
     ]
    }
   ],
   "source": [
    "from imusim.all import *\n",
    "\n",
    "samplingPeriod = 0.01\n",
    "imu = Orient3IMU()\n",
    "env = Environment()\n",
    "samples = 1000\n",
    "rotationalVelocity = 20\n",
    "calibrator = ScaleAndOffsetCalibrator(env, samples, samplingPeriod, rotationalVelocity)\n",
    "calibration = calibrator.calibrate(imu)\n",
    "model = loadBVHFile(\"/home/lisca/data/mocap/01_01.bvh\", CM_TO_M_CONVERSION)\n",
    "splinedModel = SplinedBodyModel(model)\n",
    "sim = Simulation(environment=env)\n",
    "imu.simulation = sim\n",
    "imu.trajectory = splinedModel.getJoint('rFoot')\n",
    "sim.time = splinedModel.startTime\n",
    "BasicIMUBehaviour(imu, samplingPeriod, calibration, initialTime=sim.time)\n",
    "sim.run(splinedModel.endTime)"
   ]
  }
 ],
 "metadata": {
  "kernelspec": {
   "display_name": "Python 2",
   "language": "python",
   "name": "python2"
  },
  "language_info": {
   "codemirror_mode": {
    "name": "ipython",
    "version": 2
   },
   "file_extension": ".py",
   "mimetype": "text/x-python",
   "name": "python",
   "nbconvert_exporter": "python",
   "pygments_lexer": "ipython2",
   "version": "2.7.15"
  }
 },
 "nbformat": 4,
 "nbformat_minor": 2
}
