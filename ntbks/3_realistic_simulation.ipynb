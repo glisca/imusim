{
 "cells": [
  {
   "cell_type": "markdown",
   "metadata": {},
   "source": [
    "# MoCap Trajectory"
   ]
  },
  {
   "cell_type": "code",
   "execution_count": null,
   "metadata": {},
   "outputs": [],
   "source": [
    "from imusim.all import *"
   ]
  },
  {
   "cell_type": "code",
   "execution_count": 1,
   "metadata": {},
   "outputs": [],
   "source": [
    "from imusim.platforms.imus import Orient3IMU\n",
    "from imusim.environment.base import Environment\n",
    "from imusim.simulation.calibrators import ScaleAndOffsetCalibrator\n",
    "from imusim.trajectories.rigid_body import SplinedBodyModel\n",
    "from imusim.simulation.base import Simulation\n",
    "from imusim.behaviours.imu import BasicIMUBehaviour\n",
    "\n",
    "from imusim.testing.random_data import RandomTrajectory\n",
    "\n",
    "from imusim.io.bvh import CM_TO_M_CONVERSION\n",
    "from imusim.io.bvh import loadBVHFile\n",
    "\n",
    "from imusim.visualisation.plotting import plot"
   ]
  },
  {
   "cell_type": "code",
   "execution_count": 2,
   "metadata": {},
   "outputs": [],
   "source": [
    "model = loadBVHFile(\"/home/lisca/data/mocap/01_01.bvh\", CM_TO_M_CONVERSION)\n",
    "splinedModel = SplinedBodyModel(model)"
   ]
  },
  {
   "cell_type": "code",
   "execution_count": null,
   "metadata": {},
   "outputs": [],
   "source": [
    "splinedModel.startTime"
   ]
  },
  {
   "cell_type": "code",
   "execution_count": null,
   "metadata": {},
   "outputs": [],
   "source": [
    "splinedModel.endTime"
   ]
  },
  {
   "cell_type": "code",
   "execution_count": null,
   "metadata": {},
   "outputs": [],
   "source": [
    "env = Environment()"
   ]
  },
  {
   "cell_type": "code",
   "execution_count": null,
   "metadata": {},
   "outputs": [],
   "source": [
    "imu = Orient3IMU()\n",
    "samples = 1000\n",
    "rotationalVelocity = 20\n",
    "samplingPeriod = 0.01\n",
    "calibrator = ScaleAndOffsetCalibrator(env, samples, samplingPeriod, rotationalVelocity)\n",
    "calibration = calibrator.calibrate(imu)"
   ]
  },
  {
   "cell_type": "code",
   "execution_count": null,
   "metadata": {},
   "outputs": [],
   "source": [
    "sim = Simulation(environment=env)"
   ]
  },
  {
   "cell_type": "code",
   "execution_count": null,
   "metadata": {},
   "outputs": [],
   "source": [
    "# r_ft_trjctr = splinedModel.getJoint('rFoot')\n",
    "# r_ft_trjctr.name"
   ]
  },
  {
   "cell_type": "code",
   "execution_count": null,
   "metadata": {},
   "outputs": [],
   "source": [
    "imu.simulation = sim\n",
    "imu.trajectory = splinedModel.getJoint('lFoot')"
   ]
  },
  {
   "cell_type": "code",
   "execution_count": null,
   "metadata": {},
   "outputs": [],
   "source": [
    "# splinedModel.jointNames"
   ]
  },
  {
   "cell_type": "code",
   "execution_count": null,
   "metadata": {},
   "outputs": [],
   "source": [
    "sim.time = splinedModel.startTime"
   ]
  },
  {
   "cell_type": "code",
   "execution_count": null,
   "metadata": {},
   "outputs": [],
   "source": [
    "behaviour = BasicIMUBehaviour(imu, samplingPeriod, calibration, initialTime=sim.time)"
   ]
  },
  {
   "cell_type": "code",
   "execution_count": null,
   "metadata": {},
   "outputs": [],
   "source": [
    "sim.run(splinedModel.endTime)"
   ]
  },
  {
   "cell_type": "code",
   "execution_count": null,
   "metadata": {},
   "outputs": [],
   "source": [
    "# figure()\n",
    "# plot(imu.accelerometer.calibratedMeasurements.timestamps, imu.accelerometer.calibratedMeasurements.values)\n",
    "plot(imu.gyroscope.calibratedMeasurements.timestamps, imu.gyroscope.calibratedMeasurements.values)\n",
    "# title(\"Accelerometer Readings\")\n",
    "# xlabel(\"Time (s)\")\n",
    "# ylabel(\"Acceleration (m/s^2)\")\n",
    "# legend()"
   ]
  },
  {
   "cell_type": "code",
   "execution_count": null,
   "metadata": {},
   "outputs": [],
   "source": [
    "from mpl_toolkits.mplot3d import Axes3D\n",
    "import matplotlib.pyplot as plt\n",
    "\n",
    "fig = plt.figure()\n",
    "ax = fig.add_subplot(111, projection='3d')\n",
    "\n",
    "trim = 2000\n",
    "\n",
    "x = model.positionKeyFrames.values[0][:trim]\n",
    "y = model.positionKeyFrames.values[1][:trim]\n",
    "z = model.positionKeyFrames.values[2][:trim]\n",
    "\n",
    "ax.scatter(x, y, z, marker=\"*\")\n",
    "\n",
    "plt.show()"
   ]
  },
  {
   "cell_type": "markdown",
   "metadata": {},
   "source": [
    "# Random Trajectory"
   ]
  },
  {
   "cell_type": "code",
   "execution_count": null,
   "metadata": {},
   "outputs": [],
   "source": [
    "from imusim.all import *\n",
    "\n",
    "env = Environment()\n",
    "\n",
    "imu = Orient3IMU()\n",
    "samples = 1000\n",
    "samplingPeriod = 0.01\n",
    "rotationalVelocity = 20\n",
    "calibrator = ScaleAndOffsetCalibrator(env, samples, samplingPeriod, rotationalVelocity)\n",
    "calibration = calibrator.calibrate(imu)\n",
    "\n",
    "sim = Simulation(environment=env)\n",
    "\n",
    "imu.simulation = sim\n",
    "trj_rnd = RandomTrajectory()\n",
    "imu.trajectory = trj_rnd # splinedModel.getJoint('lFoot')\n",
    "\n",
    "sim.time = trj_rnd.startTime # splinedModel.startTime\n",
    "\n",
    "BasicIMUBehaviour(imu, samplingPeriod, calibration, initialTime=sim.time)\n",
    "\n",
    "sim.run(trj_rnd.endTime)\n",
    "\n",
    "from mpl_toolkits.mplot3d import Axes3D\n",
    "import matplotlib.pyplot as plt\n",
    "\n",
    "fig = plt.figure()\n",
    "ax = fig.add_subplot(111, projection='3d')\n",
    "\n",
    "x = trj_rnd.positionKeyFrames.values[0]\n",
    "y = trj_rnd.positionKeyFrames.values[1]\n",
    "z = trj_rnd.positionKeyFrames.values[2]\n",
    "\n",
    "ax.scatter(x, y, z, marker=\"*\")\n",
    "\n",
    "plt.show()"
   ]
  },
  {
   "cell_type": "code",
   "execution_count": null,
   "metadata": {},
   "outputs": [],
   "source": [
    "plot(imu.gyroscope.calibratedMeasurements.timestamps, imu.gyroscope.calibratedMeasurements.values)"
   ]
  },
  {
   "cell_type": "code",
   "execution_count": null,
   "metadata": {},
   "outputs": [],
   "source": [
    "plot(imu.accelerometer.calibratedMeasurements.timestamps, imu.accelerometer.calibratedMeasurements.values)"
   ]
  },
  {
   "cell_type": "code",
   "execution_count": null,
   "metadata": {},
   "outputs": [],
   "source": [
    "rnd_trj = RandomTrajectory()\n",
    "trj_pstn_vls = rnd_trj.positionKeyFrames.values\n",
    "trj_rttn_vls = rnd_trj.rotationKeyFrames.values"
   ]
  },
  {
   "cell_type": "code",
   "execution_count": null,
   "metadata": {},
   "outputs": [],
   "source": [
    "trj_pstn_vls.shape"
   ]
  },
  {
   "cell_type": "code",
   "execution_count": null,
   "metadata": {},
   "outputs": [],
   "source": [
    "trj_rttn_vls.array.shape"
   ]
  },
  {
   "cell_type": "code",
   "execution_count": null,
   "metadata": {},
   "outputs": [],
   "source": []
  }
 ],
 "metadata": {
  "kernelspec": {
   "display_name": "Python 3",
   "language": "python",
   "name": "python3"
  },
  "language_info": {
   "codemirror_mode": {
    "name": "ipython",
    "version": 3
   },
   "file_extension": ".py",
   "mimetype": "text/x-python",
   "name": "python",
   "nbconvert_exporter": "python",
   "pygments_lexer": "ipython3",
   "version": "3.7.5"
  }
 },
 "nbformat": 4,
 "nbformat_minor": 4
}
