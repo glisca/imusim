{
 "cells": [
  {
   "cell_type": "markdown",
   "metadata": {},
   "source": [
    "# Random Trajectory"
   ]
  },
  {
   "cell_type": "code",
   "execution_count": null,
   "metadata": {},
   "outputs": [],
   "source": [
    "from imusim.all import *\n",
    "\n",
    "env = Environment()\n",
    "\n",
    "imu = Orient3IMU()\n",
    "samples = 1000\n",
    "samplingPeriod = 0.01\n",
    "rotationalVelocity = 20\n",
    "calibrator = ScaleAndOffsetCalibrator(env, samples, samplingPeriod, rotationalVelocity)\n",
    "calibration = calibrator.calibrate(imu)\n",
    "\n",
    "sim = Simulation(environment=env)\n",
    "\n",
    "imu.simulation = sim\n",
    "trj_rnd = RandomTrajectory()\n",
    "imu.trajectory = trj_rnd # splinedModel.getJoint('lFoot')\n",
    "\n",
    "sim.time = trj_rnd.startTime # splinedModel.startTime\n",
    "\n",
    "behavior = BasicIMUBehaviour(imu, samplingPeriod, calibration, initialTime=sim.time)\n",
    "\n",
    "sim.run(trj_rnd.endTime)\n",
    "\n",
    "from mpl_toolkits.mplot3d import Axes3D\n",
    "import matplotlib.pyplot as plt\n",
    "\n",
    "fig = plt.figure()\n",
    "ax = fig.add_subplot(111, projection='3d')\n",
    "\n",
    "x = trj_rnd.positionKeyFrames.values[0]\n",
    "y = trj_rnd.positionKeyFrames.values[1]\n",
    "z = trj_rnd.positionKeyFrames.values[2]\n",
    "\n",
    "ax.scatter(x, y, z, marker=\"*\")\n",
    "\n",
    "plt.show()"
   ]
  },
  {
   "cell_type": "code",
   "execution_count": null,
   "metadata": {},
   "outputs": [],
   "source": [
    "plot(imu.gyroscope.calibratedMeasurements.timestamps, imu.gyroscope.calibratedMeasurements.values)"
   ]
  },
  {
   "cell_type": "code",
   "execution_count": null,
   "metadata": {},
   "outputs": [],
   "source": [
    "plot(imu.accelerometer.calibratedMeasurements.timestamps, imu.accelerometer.calibratedMeasurements.values)"
   ]
  },
  {
   "cell_type": "code",
   "execution_count": null,
   "metadata": {},
   "outputs": [],
   "source": [
    "rnd_trj = RandomTrajectory()\n",
    "trj_pstn_vls = rnd_trj.positionKeyFrames.values\n",
    "trj_rttn_vls = rnd_trj.rotationKeyFrames.values"
   ]
  },
  {
   "cell_type": "code",
   "execution_count": null,
   "metadata": {},
   "outputs": [],
   "source": [
    "trj_pstn_vls.shape"
   ]
  },
  {
   "cell_type": "code",
   "execution_count": null,
   "metadata": {},
   "outputs": [],
   "source": [
    "trj_rttn_vls.array.shape"
   ]
  },
  {
   "cell_type": "code",
   "execution_count": null,
   "metadata": {},
   "outputs": [],
   "source": []
  }
 ],
 "metadata": {
  "kernelspec": {
   "display_name": "Python 3",
   "language": "python",
   "name": "python3"
  },
  "language_info": {
   "codemirror_mode": {
    "name": "ipython",
    "version": 3
   },
   "file_extension": ".py",
   "mimetype": "text/x-python",
   "name": "python",
   "nbconvert_exporter": "python",
   "pygments_lexer": "ipython3",
   "version": "3.7.5"
  }
 },
 "nbformat": 4,
 "nbformat_minor": 4
}
