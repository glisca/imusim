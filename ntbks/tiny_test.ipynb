{
 "cells": [
  {
   "cell_type": "code",
   "execution_count": 11,
   "metadata": {},
   "outputs": [],
   "source": [
    "from imusim.all import *\n",
    "\n",
    "from imusim.platforms.imus import Orient3IMU\n",
    "from imusim.environment.base import Environment\n",
    "from imusim.simulation.calibrators import ScaleAndOffsetCalibrator\n",
    "from imusim.trajectories.rigid_body import SplinedBodyModel\n",
    "from imusim.simulation.base import Simulation\n",
    "from imusim.behaviours.imu import BasicIMUBehaviour\n",
    "\n",
    "from imusim.io.bvh import CM_TO_M_CONVERSION\n",
    "from imusim.io.bvh import loadBVHFile"
   ]
  },
  {
   "cell_type": "code",
   "execution_count": 12,
   "metadata": {},
   "outputs": [
    {
     "name": "stdout",
     "output_type": "stream",
     "text": [
      "Simulating...\n",
      "Simulated 1.1s of 22.9s (  5%). Estimated time remaining 4.1s\n",
      "Simulated 2.3s of 22.9s ( 10%). Estimated time remaining 3.9s\n",
      "Simulated 3.4s of 22.9s ( 15%). Estimated time remaining 3.7s\n",
      "Simulated 4.6s of 22.9s ( 20%). Estimated time remaining 3.5s\n",
      "Simulated 5.7s of 22.9s ( 25%). Estimated time remaining 3.4s\n",
      "Simulated 6.9s of 22.9s ( 30%). Estimated time remaining 3.1s\n",
      "Simulated 8.0s of 22.9s ( 35%). Estimated time remaining 2.9s\n",
      "Simulated 9.1s of 22.9s ( 40%). Estimated time remaining 2.7s\n",
      "Simulated 10.3s of 22.9s ( 45%). Estimated time remaining 2.5s\n",
      "Simulated 11.4s of 22.9s ( 50%). Estimated time remaining 2.3s\n",
      "Simulated 12.6s of 22.9s ( 55%). Estimated time remaining 2.1s\n",
      "Simulated 13.7s of 22.9s ( 60%). Estimated time remaining 1.9s\n",
      "Simulated 14.9s of 22.9s ( 65%). Estimated time remaining 1.6s\n",
      "Simulated 16.0s of 22.9s ( 70%). Estimated time remaining 1.5s\n",
      "Simulated 17.1s of 22.9s ( 75%). Estimated time remaining 1.2s\n",
      "Simulated 18.3s of 22.9s ( 80%). Estimated time remaining 1.0s\n",
      "Simulated 19.4s of 22.9s ( 85%). Estimated time remaining 0.8s\n",
      "Simulated 20.6s of 22.9s ( 90%). Estimated time remaining 0.6s\n",
      "Simulated 21.7s of 22.9s ( 95%). Estimated time remaining 0.4s\n",
      "Simulated 22.9s of 22.9s (100%). Estimated time remaining 0.2s\n",
      "Simulation complete.\n",
      "Simulated 22.9 seconds in 4.1 seconds.\n"
     ]
    }
   ],
   "source": [
    "imu = Orient3IMU()\n",
    "env = Environment()\n",
    "\n",
    "samples = 1000\n",
    "rotationalVelocity = 20\n",
    "samplingPeriod = 0.01\n",
    "calibrator = ScaleAndOffsetCalibrator(env, samples, samplingPeriod, rotationalVelocity)\n",
    "calibration = calibrator.calibrate(imu)\n",
    "\n",
    "model = loadBVHFile('/home/lisca/data/mocap/01_01.bvh', CM_TO_M_CONVERSION)\n",
    "\n",
    "splinedModel = SplinedBodyModel(model)\n",
    "\n",
    "sim = Simulation(environment=env)\n",
    "\n",
    "imu.simulation = sim\n",
    "imu.trajectory = splinedModel.getJoint('rFoot')\n",
    "sim.time = splinedModel.startTime\n",
    "\n",
    "BasicIMUBehaviour(imu, samplingPeriod, calibration, initialTime=sim.time)\n",
    "\n",
    "sim.run(splinedModel.endTime)"
   ]
  },
  {
   "cell_type": "code",
   "execution_count": 14,
   "metadata": {},
   "outputs": [
    {
     "ename": "NameError",
     "evalue": "name 'figure' is not defined",
     "output_type": "error",
     "traceback": [
      "\u001b[0;31m---------------------------------------------------------------------------\u001b[0m",
      "\u001b[0;31mNameError\u001b[0m                                 Traceback (most recent call last)",
      "\u001b[0;32m<ipython-input-14-818c0714ca60>\u001b[0m in \u001b[0;36m<module>\u001b[0;34m\u001b[0m\n\u001b[0;32m----> 1\u001b[0;31m \u001b[0mfigure\u001b[0m\u001b[0;34m(\u001b[0m\u001b[0;34m)\u001b[0m\u001b[0;34m\u001b[0m\u001b[0;34m\u001b[0m\u001b[0m\n\u001b[0m\u001b[1;32m      2\u001b[0m \u001b[0mplot\u001b[0m\u001b[0;34m(\u001b[0m\u001b[0mimu\u001b[0m\u001b[0;34m.\u001b[0m\u001b[0maccelerometer\u001b[0m\u001b[0;34m.\u001b[0m\u001b[0mcalibratedMeasurements\u001b[0m\u001b[0;34m)\u001b[0m\u001b[0;34m\u001b[0m\u001b[0;34m\u001b[0m\u001b[0m\n\u001b[1;32m      3\u001b[0m \u001b[0mtitle\u001b[0m\u001b[0;34m(\u001b[0m\u001b[0;34m\"Accelerometer Readings\"\u001b[0m\u001b[0;34m)\u001b[0m\u001b[0;34m\u001b[0m\u001b[0;34m\u001b[0m\u001b[0m\n\u001b[1;32m      4\u001b[0m \u001b[0mxlabel\u001b[0m\u001b[0;34m(\u001b[0m\u001b[0;34m\"Time (s)\"\u001b[0m\u001b[0;34m)\u001b[0m\u001b[0;34m\u001b[0m\u001b[0;34m\u001b[0m\u001b[0m\n\u001b[1;32m      5\u001b[0m \u001b[0mylabel\u001b[0m\u001b[0;34m(\u001b[0m\u001b[0;34m\"Acceleration (m/s^2)\"\u001b[0m\u001b[0;34m)\u001b[0m\u001b[0;34m\u001b[0m\u001b[0;34m\u001b[0m\u001b[0m\n",
      "\u001b[0;31mNameError\u001b[0m: name 'figure' is not defined"
     ]
    }
   ],
   "source": [
    "figure()\n",
    "plot(imu.accelerometer.calibratedMeasurements)\n",
    "title(\"Accelerometer Readings\")\n",
    "xlabel(\"Time (s)\")\n",
    "ylabel(\"Acceleration (m/s^2)\")\n",
    "legend()"
   ]
  },
  {
   "cell_type": "code",
   "execution_count": null,
   "metadata": {},
   "outputs": [],
   "source": []
  }
 ],
 "metadata": {
  "kernelspec": {
   "display_name": "Python 3",
   "language": "python",
   "name": "python3"
  },
  "language_info": {
   "codemirror_mode": {
    "name": "ipython",
    "version": 3
   },
   "file_extension": ".py",
   "mimetype": "text/x-python",
   "name": "python",
   "nbconvert_exporter": "python",
   "pygments_lexer": "ipython3",
   "version": "3.7.5"
  }
 },
 "nbformat": 4,
 "nbformat_minor": 4
}
