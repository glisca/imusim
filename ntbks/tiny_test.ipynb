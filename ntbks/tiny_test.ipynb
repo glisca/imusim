{
 "cells": [
  {
   "cell_type": "code",
   "execution_count": null,
   "metadata": {},
   "outputs": [],
   "source": [
    "from imusim.all import *\n",
    "\n",
    "from imusim.platforms.imus import Orient3IMU\n",
    "from imusim.environment.base import Environment\n",
    "from imusim.simulation.calibrators import ScaleAndOffsetCalibrator\n",
    "from imusim.trajectories.rigid_body import SplinedBodyModel\n",
    "from imusim.simulation.base import Simulation\n",
    "from imusim.behaviours.imu import BasicIMUBehaviour\n",
    "\n",
    "from imusim.io.bvh import CM_TO_M_CONVERSION\n",
    "from imusim.io.bvh import loadBVHFile\n",
    "\n",
    "from imusim.visualisation.plotting import plot"
   ]
  },
  {
   "cell_type": "code",
   "execution_count": null,
   "metadata": {},
   "outputs": [],
   "source": [
    "imu = Orient3IMU()\n",
    "env = Environment()\n",
    "\n",
    "samples = 1000\n",
    "rotationalVelocity = 20\n",
    "samplingPeriod = 0.01\n",
    "calibrator = ScaleAndOffsetCalibrator(env, samples, samplingPeriod, rotationalVelocity)\n",
    "calibration = calibrator.calibrate(imu)\n",
    "\n",
    "model = loadBVHFile('/home/lisca/data/mocap/01_01.bvh', CM_TO_M_CONVERSION)\n",
    "\n",
    "splinedModel = SplinedBodyModel(model)\n",
    "\n",
    "sim = Simulation(environment=env)\n",
    "\n",
    "imu.simulation = sim\n",
    "imu.trajectory = splinedModel.getJoint('rFoot')\n",
    "sim.time = splinedModel.startTime\n",
    "\n",
    "BasicIMUBehaviour(imu, samplingPeriod, calibration, initialTime=sim.time)\n",
    "\n",
    "sim.run(splinedModel.endTime)"
   ]
  },
  {
   "cell_type": "code",
   "execution_count": null,
   "metadata": {},
   "outputs": [],
   "source": [
    "# figure()\n",
    "# plot(imu.accelerometer.calibratedMeasurements.timestamps, imu.accelerometer.calibratedMeasurements.values)\n",
    "plot(imu.gyroscope.calibratedMeasurements.timestamps, imu.gyroscope.calibratedMeasurements.values)\n",
    "# title(\"Accelerometer Readings\")\n",
    "# xlabel(\"Time (s)\")\n",
    "# ylabel(\"Acceleration (m/s^2)\")\n",
    "# legend()"
   ]
  },
  {
   "cell_type": "code",
   "execution_count": null,
   "metadata": {},
   "outputs": [],
   "source": []
  }
 ],
 "metadata": {
  "kernelspec": {
   "display_name": "Python 3",
   "language": "python",
   "name": "python3"
  },
  "language_info": {
   "codemirror_mode": {
    "name": "ipython",
    "version": 3
   },
   "file_extension": ".py",
   "mimetype": "text/x-python",
   "name": "python",
   "nbconvert_exporter": "python",
   "pygments_lexer": "ipython3",
   "version": "3.7.5"
  }
 },
 "nbformat": 4,
 "nbformat_minor": 4
}
