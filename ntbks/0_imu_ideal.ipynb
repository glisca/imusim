{
 "cells": [
  {
   "cell_type": "code",
   "execution_count": 1,
   "metadata": {},
   "outputs": [],
   "source": [
    "from imusim.all import *"
   ]
  },
  {
   "cell_type": "code",
   "execution_count": 3,
   "metadata": {},
   "outputs": [],
   "source": [
    "import pkgutil\n",
    "import os\n",
    "import inspect"
   ]
  },
  {
   "cell_type": "code",
   "execution_count": 4,
   "metadata": {},
   "outputs": [],
   "source": [
    "ldr = pkgutil.get_loader(\"imusim\")"
   ]
  },
  {
   "cell_type": "code",
   "execution_count": 5,
   "metadata": {},
   "outputs": [
    {
     "data": {
      "text/plain": [
       "'/home/lisca/anaconda/a31812/envs/amass2imu/lib/python3.7/site-packages/imusim-0.2-py3.7-linux-x86_64.egg/imusim/__init__.py'"
      ]
     },
     "execution_count": 5,
     "metadata": {},
     "output_type": "execute_result"
    }
   ],
   "source": [
    "ldr.get_filename()"
   ]
  },
  {
   "cell_type": "code",
   "execution_count": 6,
   "metadata": {},
   "outputs": [],
   "source": [
    "path = os.path.split(pkgutil.get_loader('imusim').get_filename())[0]"
   ]
  },
  {
   "cell_type": "code",
   "execution_count": 7,
   "metadata": {},
   "outputs": [
    {
     "data": {
      "text/plain": [
       "'/home/lisca/anaconda/a31812/envs/amass2imu/lib/python3.7/site-packages/imusim-0.2-py3.7-linux-x86_64.egg/imusim'"
      ]
     },
     "execution_count": 7,
     "metadata": {},
     "output_type": "execute_result"
    }
   ],
   "source": [
    "path"
   ]
  },
  {
   "cell_type": "code",
   "execution_count": 8,
   "metadata": {},
   "outputs": [
    {
     "name": "stdout",
     "output_type": "stream",
     "text": [
      "FileFinder('/home/lisca/anaconda/a31812/envs/amass2imu/lib/python3.7/site-packages/imusim-0.2-py3.7-linux-x86_64.egg/imusim') algorithms True\n",
      "FileFinder('/home/lisca/anaconda/a31812/envs/amass2imu/lib/python3.7/site-packages/imusim-0.2-py3.7-linux-x86_64.egg/imusim') all True\n",
      "FileFinder('/home/lisca/anaconda/a31812/envs/amass2imu/lib/python3.7/site-packages/imusim-0.2-py3.7-linux-x86_64.egg/imusim') behaviours True\n",
      "FileFinder('/home/lisca/anaconda/a31812/envs/amass2imu/lib/python3.7/site-packages/imusim-0.2-py3.7-linux-x86_64.egg/imusim') capture True\n",
      "FileFinder('/home/lisca/anaconda/a31812/envs/amass2imu/lib/python3.7/site-packages/imusim-0.2-py3.7-linux-x86_64.egg/imusim') environment True\n",
      "FileFinder('/home/lisca/anaconda/a31812/envs/amass2imu/lib/python3.7/site-packages/imusim-0.2-py3.7-linux-x86_64.egg/imusim') io True\n",
      "FileFinder('/home/lisca/anaconda/a31812/envs/amass2imu/lib/python3.7/site-packages/imusim-0.2-py3.7-linux-x86_64.egg/imusim') maths True\n",
      "FileFinder('/home/lisca/anaconda/a31812/envs/amass2imu/lib/python3.7/site-packages/imusim-0.2-py3.7-linux-x86_64.egg/imusim') platforms True\n",
      "FileFinder('/home/lisca/anaconda/a31812/envs/amass2imu/lib/python3.7/site-packages/imusim-0.2-py3.7-linux-x86_64.egg/imusim') simulation True\n",
      "FileFinder('/home/lisca/anaconda/a31812/envs/amass2imu/lib/python3.7/site-packages/imusim-0.2-py3.7-linux-x86_64.egg/imusim') testing True\n",
      "FileFinder('/home/lisca/anaconda/a31812/envs/amass2imu/lib/python3.7/site-packages/imusim-0.2-py3.7-linux-x86_64.egg/imusim') tests True\n",
      "FileFinder('/home/lisca/anaconda/a31812/envs/amass2imu/lib/python3.7/site-packages/tests') tests.host_fake False\n",
      "FileFinder('/home/lisca/anaconda/a31812/envs/amass2imu/lib/python3.7/site-packages/tests') tests.host_test False\n",
      "FileFinder('/home/lisca/anaconda/a31812/envs/amass2imu/lib/python3.7/site-packages/tests') tests.lib_test False\n",
      "FileFinder('/home/lisca/anaconda/a31812/envs/amass2imu/lib/python3.7/site-packages/tests') tests.tool_test False\n",
      "FileFinder('/home/lisca/anaconda/a31812/envs/amass2imu/lib/python3.7/site-packages/imusim-0.2-py3.7-linux-x86_64.egg/imusim') trajectories True\n",
      "FileFinder('/home/lisca/anaconda/a31812/envs/amass2imu/lib/python3.7/site-packages/imusim-0.2-py3.7-linux-x86_64.egg/imusim') utilities True\n",
      "FileFinder('/home/lisca/anaconda/a31812/envs/amass2imu/lib/python3.7/site-packages/imusim-0.2-py3.7-linux-x86_64.egg/imusim') visualisation True\n"
     ]
    }
   ],
   "source": [
    "for ldr, mdl_nm, ispkg in pkgutil.walk_packages([path]):\n",
    "    print(\"{} {} {}\".format(ldr, mdl_nm, ispkg))"
   ]
  },
  {
   "cell_type": "code",
   "execution_count": 11,
   "metadata": {},
   "outputs": [
    {
     "name": "stdout",
     "output_type": "stream",
     "text": [
      "algorithms\n",
      "all\n",
      "behaviours\n",
      "capture\n",
      "environment\n",
      "io\n",
      "maths\n",
      "platforms\n",
      "simulation\n",
      "testing\n",
      "tests\n",
      "tests.host_fake\n",
      "tests.host_test\n",
      "tests.lib_test\n",
      "tests.tool_test\n",
      "trajectories\n",
      "utilities\n",
      "visualisation\n"
     ]
    },
    {
     "data": {
      "text/plain": [
       "[]"
      ]
     },
     "execution_count": 11,
     "metadata": {},
     "output_type": "execute_result"
    }
   ],
   "source": [
    "__all__ = []\n",
    "for loader, modname, ispkg in pkgutil.walk_packages([path]):\n",
    "    print(modname)\n",
    "    if modname.startswith('imusim') \\\n",
    "            and not modname.startswith('imusim.tests') \\\n",
    "            and not modname.startswith('imusim.all'):\n",
    "#     if not modname.startswith('tests') \\\n",
    "#        and not modname.startswith('all'):\n",
    "        exec(\"import %s\" % modname)\n",
    "        exec(\"module = %s\" % modname)\n",
    "        symbols = filter(lambda o: not inspect.ismodule(o),\n",
    "                module.__all__ if hasattr(module,'__all__') else dir(module))\n",
    "        symbols = filter(lambda s: not s.startswith('_'), symbols)\n",
    "        exec(\"from %s import *\" % modname)\n",
    "        __all__ += symbols\n",
    "__all__"
   ]
  },
  {
   "cell_type": "code",
   "execution_count": 2,
   "metadata": {},
   "outputs": [
    {
     "ename": "NameError",
     "evalue": "name 'Simulation' is not defined",
     "output_type": "error",
     "traceback": [
      "\u001b[0;31m---------------------------------------------------------------------------\u001b[0m",
      "\u001b[0;31mNameError\u001b[0m                                 Traceback (most recent call last)",
      "\u001b[0;32m<ipython-input-2-7fbd60f9d69a>\u001b[0m in \u001b[0;36m<module>\u001b[0;34m\u001b[0m\n\u001b[0;32m----> 1\u001b[0;31m \u001b[0msim\u001b[0m \u001b[0;34m=\u001b[0m \u001b[0mSimulation\u001b[0m\u001b[0;34m(\u001b[0m\u001b[0;34m)\u001b[0m\u001b[0;34m\u001b[0m\u001b[0;34m\u001b[0m\u001b[0m\n\u001b[0m",
      "\u001b[0;31mNameError\u001b[0m: name 'Simulation' is not defined"
     ]
    }
   ],
   "source": [
    "sim = Simulation()"
   ]
  },
  {
   "cell_type": "code",
   "execution_count": null,
   "metadata": {},
   "outputs": [],
   "source": [
    "trajectory = RandomTrajectory()\n",
    "\n",
    "imu = IdealIMU(sim, trajectory)\n",
    "\n",
    "samplingPeriod = 0.01\n",
    "behaviour = BasicIMUBehaviour(imu, samplingPeriod)"
   ]
  },
  {
   "cell_type": "code",
   "execution_count": null,
   "metadata": {},
   "outputs": [],
   "source": [
    "sim.time = trajectory.startTime\n",
    "sim.run(trajectory.endTime)"
   ]
  },
  {
   "cell_type": "code",
   "execution_count": null,
   "metadata": {},
   "outputs": [],
   "source": [
    "# import matplotlib\n",
    "plot(imu.accelerometer.rawMeasurements.timestamps, imu.accelerometer.rawMeasurements.values)\n",
    "# title(\"Accelerometer Readings\")\n",
    "# xlabel(\"Time (s)\")\n",
    "# ylabel(\"Acceleration (m/s^2)\")\n",
    "# legend()"
   ]
  },
  {
   "cell_type": "code",
   "execution_count": null,
   "metadata": {},
   "outputs": [],
   "source": [
    "imu.accelerometer.rawMeasurements.timestamps"
   ]
  },
  {
   "cell_type": "code",
   "execution_count": null,
   "metadata": {},
   "outputs": [],
   "source": [
    "imu.accelerometer.rawMeasurements.values"
   ]
  },
  {
   "cell_type": "code",
   "execution_count": null,
   "metadata": {},
   "outputs": [],
   "source": [
    "trajectory.rotationKeyFrames.timestamps"
   ]
  },
  {
   "cell_type": "code",
   "execution_count": null,
   "metadata": {},
   "outputs": [],
   "source": [
    "trajectory.rotationKeyFrames.values"
   ]
  },
  {
   "cell_type": "code",
   "execution_count": null,
   "metadata": {},
   "outputs": [],
   "source": [
    "# figure()\n",
    "plot(trajectory.rotationKeyFrames.timestamps, trajectory.rotationKeyFrames.values)"
   ]
  },
  {
   "cell_type": "code",
   "execution_count": null,
   "metadata": {},
   "outputs": [],
   "source": [
    "t = trajectory.startTime\n",
    "t"
   ]
  },
  {
   "cell_type": "code",
   "execution_count": null,
   "metadata": {},
   "outputs": [],
   "source": [
    "trajectory.position(t)"
   ]
  },
  {
   "cell_type": "code",
   "execution_count": null,
   "metadata": {},
   "outputs": [],
   "source": [
    "trajectory.velocity(t)"
   ]
  },
  {
   "cell_type": "code",
   "execution_count": null,
   "metadata": {},
   "outputs": [],
   "source": [
    "trajectory.acceleration(t)"
   ]
  },
  {
   "cell_type": "code",
   "execution_count": null,
   "metadata": {},
   "outputs": [],
   "source": [
    "trajectory.rotation(t)"
   ]
  },
  {
   "cell_type": "code",
   "execution_count": null,
   "metadata": {},
   "outputs": [],
   "source": [
    "trajectory.rotationalVelocity(t)"
   ]
  },
  {
   "cell_type": "code",
   "execution_count": null,
   "metadata": {},
   "outputs": [],
   "source": [
    "trajectory.rotationalAcceleration(t)"
   ]
  }
 ],
 "metadata": {
  "kernelspec": {
   "display_name": "Python 3",
   "language": "python",
   "name": "python3"
  },
  "language_info": {
   "codemirror_mode": {
    "name": "ipython",
    "version": 3
   },
   "file_extension": ".py",
   "mimetype": "text/x-python",
   "name": "python",
   "nbconvert_exporter": "python",
   "pygments_lexer": "ipython3",
   "version": "3.7.5"
  }
 },
 "nbformat": 4,
 "nbformat_minor": 4
}
